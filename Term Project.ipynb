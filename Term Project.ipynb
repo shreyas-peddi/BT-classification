{
 "cells": [
  {
   "cell_type": "code",
   "execution_count": 11,
   "id": "cd2e3f6e",
   "metadata": {},
   "outputs": [],
   "source": [
    "import numpy as np\n",
    "import pandas as pd\n",
    "import matplotlib.pyplot as plt\n",
    "import seaborn as sns\n",
    "import os\n",
    "import warnings\n",
    "warnings.filterwarnings(\"ignore\")\n",
    "from sklearn.preprocessing import LabelEncoder\n",
    "from sklearn.model_selection import train_test_split\n",
    "from sklearn.metrics import accuracy_score, confusion_matrix, classification_report\n",
    "import cv2\n",
    "import tensorflow as tf\n",
    "from tensorflow import keras\n",
    "from tensorflow.keras.callbacks import EarlyStopping"
   ]
  },
  {
   "cell_type": "code",
   "execution_count": 12,
   "id": "745ae996",
   "metadata": {},
   "outputs": [],
   "source": [
    "X, y= [], []\n",
    "for file in os.listdir('./Data'):\n",
    "    for image in os.listdir('./Data/'+str(file)):\n",
    "        img = cv2.imread('./Data/'+str(file)+str('/')+str(image))\n",
    "        X.append(img)\n",
    "        y.append(file)\n",
    "X = np.array(X)\n",
    "y = np.array(y)"
   ]
  },
  {
   "cell_type": "code",
   "execution_count": 13,
   "id": "01b2ae19",
   "metadata": {},
   "outputs": [],
   "source": [
    "from sklearn import preprocessing \n",
    "from sklearn.model_selection import train_test_split\n",
    "from keras.models import Sequential,Model,load_model\n",
    "from keras.layers import Convolution2D, Dropout, Dense,MaxPooling2D, Activation\n",
    "from keras.layers import BatchNormalization\n",
    "from keras.layers import MaxPooling2D\n",
    "from keras.layers import Flatten\n",
    "from keras.callbacks import ReduceLROnPlateau, EarlyStopping ,ModelCheckpoint, Callback, TensorBoard\n",
    "from keras.optimizers import SGD,Adam\n",
    "from keras.applications import ResNet50\n",
    "from keras.applications import DenseNet121\n",
    "from tensorflow.keras.applications import MobileNetV2\n",
    "from tensorflow.keras.applications import InceptionV3\n",
    "from keras import regularizers\n",
    "import seaborn as sns\n",
    "from sklearn.metrics import confusion_matrix,classification_report"
   ]
  },
  {
   "cell_type": "markdown",
   "id": "ef925a25",
   "metadata": {},
   "source": [
    "## Normalization"
   ]
  },
  {
   "cell_type": "code",
   "execution_count": 14,
   "id": "f0bc6e3c",
   "metadata": {},
   "outputs": [
    {
     "data": {
      "text/plain": [
       "array([0.72156863, 0.72156863, 0.72156863])"
      ]
     },
     "execution_count": 14,
     "metadata": {},
     "output_type": "execute_result"
    }
   ],
   "source": [
    "X_scaled = X/255\n",
    "X_scaled[0][158][25]"
   ]
  },
  {
   "cell_type": "markdown",
   "id": "676ea2d7",
   "metadata": {},
   "source": [
    "## one hot encoding"
   ]
  },
  {
   "cell_type": "code",
   "execution_count": 15,
   "id": "9312b8e6",
   "metadata": {},
   "outputs": [
    {
     "data": {
      "text/plain": [
       "1    913\n",
       "0    901\n",
       "3    844\n",
       "2    438\n",
       "dtype: int64"
      ]
     },
     "execution_count": 15,
     "metadata": {},
     "output_type": "execute_result"
    }
   ],
   "source": [
    "ohe = LabelEncoder()\n",
    "\n",
    "y_ohe = ohe.fit_transform(y)\n",
    "\n",
    "pd.DataFrame(y_ohe).value_counts()\n"
   ]
  },
  {
   "cell_type": "code",
   "execution_count": 16,
   "id": "6669a628",
   "metadata": {},
   "outputs": [
    {
     "data": {
      "text/plain": [
       "meningioma_tumor    913\n",
       "glioma_tumor        901\n",
       "pituitary_tumor     844\n",
       "normal              438\n",
       "dtype: int64"
      ]
     },
     "execution_count": 16,
     "metadata": {},
     "output_type": "execute_result"
    }
   ],
   "source": [
    "pd.DataFrame(y).value_counts()"
   ]
  },
  {
   "cell_type": "code",
   "execution_count": 17,
   "id": "3cac8582",
   "metadata": {},
   "outputs": [
    {
     "data": {
      "text/plain": [
       "array([[1., 0., 0., 0.],\n",
       "       [1., 0., 0., 0.],\n",
       "       [1., 0., 0., 0.],\n",
       "       ...,\n",
       "       [0., 0., 0., 1.],\n",
       "       [0., 0., 0., 1.],\n",
       "       [0., 0., 0., 1.]], dtype=float32)"
      ]
     },
     "execution_count": 17,
     "metadata": {},
     "output_type": "execute_result"
    }
   ],
   "source": [
    "y_cat = keras.utils.to_categorical(y_ohe, num_classes=4)\n",
    "y_cat"
   ]
  },
  {
   "cell_type": "code",
   "execution_count": 18,
   "id": "fdfbbe93",
   "metadata": {},
   "outputs": [],
   "source": [
    "X_train, X_test, y_train, y_test = train_test_split(X_scaled, y_cat, test_size=0.2, random_state=123)"
   ]
  },
  {
   "cell_type": "code",
   "execution_count": 55,
   "id": "88ba4a24",
   "metadata": {},
   "outputs": [
    {
     "name": "stdout",
     "output_type": "stream",
     "text": [
      "Epoch 1/15\n",
      "78/78 [==============================] - 176s 2s/step - loss: 3.9412 - accuracy: 0.3708 - lr: 0.0010\n",
      "Epoch 2/15\n",
      "78/78 [==============================] - 154s 2s/step - loss: 1.4497 - accuracy: 0.5085 - lr: 0.0010\n",
      "Epoch 3/15\n",
      "78/78 [==============================] - 154s 2s/step - loss: 1.3704 - accuracy: 0.5517 - lr: 0.0010\n",
      "Epoch 4/15\n",
      "78/78 [==============================] - 155s 2s/step - loss: 1.1094 - accuracy: 0.6183 - lr: 0.0010\n",
      "Epoch 5/15\n",
      "78/78 [==============================] - 153s 2s/step - loss: 1.3643 - accuracy: 0.6042 - lr: 0.0010\n",
      "Epoch 6/15\n",
      "78/78 [==============================] - 153s 2s/step - loss: 1.0022 - accuracy: 0.6668 - lr: 0.0010\n",
      "Epoch 7/15\n",
      "78/78 [==============================] - 153s 2s/step - loss: 0.9325 - accuracy: 0.6729 - lr: 0.0010\n",
      "Epoch 8/15\n",
      "78/78 [==============================] - 244s 3s/step - loss: 0.7027 - accuracy: 0.7173 - lr: 0.0010\n",
      "Epoch 9/15\n",
      "78/78 [==============================] - 439s 6s/step - loss: 1.3483 - accuracy: 0.6236 - lr: 0.0010\n",
      "Epoch 10/15\n",
      "78/78 [==============================] - 435s 6s/step - loss: 0.7011 - accuracy: 0.7452 - lr: 0.0010\n",
      "Epoch 11/15\n",
      "78/78 [==============================] - 438s 6s/step - loss: 0.8186 - accuracy: 0.7165 - lr: 0.0010\n",
      "Epoch 12/15\n",
      "78/78 [==============================] - ETA: 0s - loss: 0.8862 - accuracy: 0.7048\n",
      "Epoch 12: ReduceLROnPlateau reducing learning rate to 0.0005000000237487257.\n",
      "78/78 [==============================] - 441s 6s/step - loss: 0.8862 - accuracy: 0.7048 - lr: 0.0010\n",
      "Epoch 13/15\n",
      "78/78 [==============================] - 443s 6s/step - loss: 0.4164 - accuracy: 0.8368 - lr: 5.0000e-04\n",
      "Epoch 14/15\n",
      "78/78 [==============================] - 441s 6s/step - loss: 0.4014 - accuracy: 0.8413 - lr: 5.0000e-04\n",
      "Epoch 15/15\n",
      "78/78 [==============================] - 441s 6s/step - loss: 0.4620 - accuracy: 0.8138 - lr: 5.0000e-04\n"
     ]
    },
    {
     "data": {
      "text/plain": [
       "<keras.callbacks.History at 0x22d3b4d6850>"
      ]
     },
     "execution_count": 55,
     "metadata": {},
     "output_type": "execute_result"
    }
   ],
   "source": [
    "# #ResNet50\n",
    "\n",
    "# # Callbacks--> Stop training automatically once the model performance stop improving\n",
    "learning_rate_reduction=tf.keras.callbacks.ReduceLROnPlateau(monitor=\"loss\",patience=2,factor=0.5, min_lr=0.00001,verbose =1)\n",
    "Early_Stopping= tf.keras.callbacks.EarlyStopping(monitor=\"loss\",patience=5, restore_best_weights=True)\n",
    "\n",
    "\n",
    "resnet50 = ResNet50(input_shape=(256,256,3), weights='imagenet', include_top=False)\n",
    "\n",
    "for layer in resnet50.layers:\n",
    "    layer.trainable = False\n",
    "    \n",
    "x = keras.layers.Flatten()(resnet50.output)\n",
    "\n",
    "prediction = keras.layers.Dense(4, activation='softmax')(x)\n",
    "\n",
    "model3 = keras.Model(inputs=resnet50.input, outputs=prediction)\n",
    "\n",
    "model3.compile(optimizer='adam',\n",
    "              loss='categorical_crossentropy',\n",
    "              metrics=['accuracy'])\n",
    "\n",
    "model3.fit(X_train,y_train, epochs=15, batch_size=32,callbacks=[Early_Stopping,learning_rate_reduction])"
   ]
  },
  {
   "cell_type": "code",
   "execution_count": 57,
   "id": "fdf69fba",
   "metadata": {
    "scrolled": true
   },
   "outputs": [
    {
     "name": "stdout",
     "output_type": "stream",
     "text": [
      "20/20 [==============================] - 144s 7s/step\n"
     ]
    }
   ],
   "source": [
    "y_pred = model3.predict(X_test)\n",
    "y_predicted = np.argmax(y_pred, axis=1)"
   ]
  },
  {
   "cell_type": "code",
   "execution_count": 59,
   "id": "b6469dd8",
   "metadata": {},
   "outputs": [
    {
     "data": {
      "text/plain": [
       "0.667741935483871"
      ]
     },
     "execution_count": 59,
     "metadata": {},
     "output_type": "execute_result"
    }
   ],
   "source": [
    "y_true = np.argmax(y_test, axis=1)\n",
    "accuracy_score(y_true,y_predicted)"
   ]
  },
  {
   "cell_type": "code",
   "execution_count": 60,
   "id": "efa9942f",
   "metadata": {},
   "outputs": [
    {
     "data": {
      "image/png": "[encoded data removed]",
      "text/plain": [
       "<Figure size 640x480 with 2 Axes>"
      ]
     },
     "metadata": {},
     "output_type": "display_data"
    }
   ],
   "source": [
    "cm = confusion_matrix(y_true, y_predicted)\n",
    "\n",
    "sns.heatmap(cm, annot=True,fmt=\".0f\")\n",
    "plt.title(\"Confusion Matrix\")\n",
    "plt.show()"
   ]
  },
  {
   "cell_type": "code",
   "execution_count": 61,
   "id": "cfdb2f72",
   "metadata": {},
   "outputs": [
    {
     "name": "stdout",
     "output_type": "stream",
     "text": [
      "              precision    recall  f1-score   support\n",
      "\n",
      "           0       0.49      0.95      0.65       171\n",
      "           1       0.91      0.35      0.51       180\n",
      "           2       0.75      0.96      0.84        93\n",
      "           3       0.96      0.57      0.71       176\n",
      "\n",
      "    accuracy                           0.67       620\n",
      "   macro avg       0.78      0.71      0.68       620\n",
      "weighted avg       0.79      0.67      0.65       620\n",
      "\n"
     ]
    }
   ],
   "source": [
    "print(classification_report(y_true,y_predicted))"
   ]
  },
  {
   "cell_type": "code",
   "execution_count": 31,
   "id": "466469f8",
   "metadata": {
    "scrolled": true
   },
   "outputs": [
    {
     "name": "stdout",
     "output_type": "stream",
     "text": [
      "Epoch 1/15\n",
      "78/78 [==============================] - 114s 1s/step - loss: 3.7445 - accuracy: 0.6789 - lr: 0.0010\n",
      "Epoch 2/15\n",
      "78/78 [==============================] - 105s 1s/step - loss: 0.5077 - accuracy: 0.8837 - lr: 0.0010\n",
      "Epoch 3/15\n",
      "78/78 [==============================] - 108s 1s/step - loss: 0.3484 - accuracy: 0.9285 - lr: 0.0010\n",
      "Epoch 4/15\n",
      "78/78 [==============================] - 105s 1s/step - loss: 0.1362 - accuracy: 0.9608 - lr: 0.0010\n",
      "Epoch 5/15\n",
      "78/78 [==============================] - 105s 1s/step - loss: 0.1398 - accuracy: 0.9624 - lr: 0.0010\n",
      "Epoch 6/15\n",
      "78/78 [==============================] - 105s 1s/step - loss: 0.1045 - accuracy: 0.9729 - lr: 0.0010\n",
      "Epoch 7/15\n",
      "78/78 [==============================] - 105s 1s/step - loss: 0.0576 - accuracy: 0.9838 - lr: 0.0010\n",
      "Epoch 8/15\n",
      "78/78 [==============================] - 108s 1s/step - loss: 0.0119 - accuracy: 0.9952 - lr: 0.0010\n",
      "Epoch 9/15\n",
      "78/78 [==============================] - 106s 1s/step - loss: 0.0567 - accuracy: 0.9859 - lr: 0.0010\n",
      "Epoch 10/15\n",
      "78/78 [==============================] - ETA: 0s - loss: 0.0350 - accuracy: 0.9919\n",
      "Epoch 10: ReduceLROnPlateau reducing learning rate to 0.0005000000237487257.\n",
      "78/78 [==============================] - 105s 1s/step - loss: 0.0350 - accuracy: 0.9919 - lr: 0.0010\n",
      "Epoch 11/15\n",
      "78/78 [==============================] - 106s 1s/step - loss: 0.0040 - accuracy: 0.9980 - lr: 5.0000e-04\n",
      "Epoch 12/15\n",
      "78/78 [==============================] - 175s 2s/step - loss: 5.3622e-04 - accuracy: 1.0000 - lr: 5.0000e-04\n",
      "Epoch 13/15\n",
      "78/78 [==============================] - 182s 2s/step - loss: 7.2195e-05 - accuracy: 1.0000 - lr: 5.0000e-04\n",
      "Epoch 14/15\n",
      "78/78 [==============================] - 182s 2s/step - loss: 5.9329e-05 - accuracy: 1.0000 - lr: 5.0000e-04\n",
      "Epoch 15/15\n",
      "78/78 [==============================] - ETA: 0s - loss: 5.3107e-05 - accuracy: 1.0000\n",
      "Epoch 15: ReduceLROnPlateau reducing learning rate to 0.0002500000118743628.\n",
      "78/78 [==============================] - 182s 2s/step - loss: 5.3107e-05 - accuracy: 1.0000 - lr: 5.0000e-04\n"
     ]
    },
    {
     "data": {
      "text/plain": [
       "<keras.callbacks.History at 0x2a68a7c06a0>"
      ]
     },
     "execution_count": 31,
     "metadata": {},
     "output_type": "execute_result"
    }
   ],
   "source": [
    "# #implementing denseNet\n",
    "\n",
    "learning_rate_reduction=tf.keras.callbacks.ReduceLROnPlateau(monitor=\"loss\",patience=2,factor=0.5, min_lr=0.00001,verbose =1)\n",
    "Early_Stopping= tf.keras.callbacks.EarlyStopping(monitor=\"loss\",patience=5, restore_best_weights=True)\n",
    "densenet121 = DenseNet121(input_shape=(256,256,3), weights='imagenet', include_top=False)\n",
    "\n",
    "for layer in densenet121.layers:\n",
    "    layer.trainable = False\n",
    "    \n",
    "x = keras.layers.Flatten()(densenet121.output)\n",
    "\n",
    "prediction = keras.layers.Dense(4, activation='softmax')(x)\n",
    "\n",
    "model1 = keras.Model(inputs=densenet121.input, outputs=prediction)\n",
    "\n",
    "model1.compile(optimizer='adam',\n",
    "              loss='categorical_crossentropy',\n",
    "              metrics=['accuracy'])\n",
    "\n",
    "es = EarlyStopping(monitor='val_accuracy', mode='max', patience=5, restore_best_weights=True)\n",
    "\n",
    "model1.fit(X_train,y_train, epochs=15, batch_size=32,callbacks=[Early_Stopping,learning_rate_reduction])"
   ]
  },
  {
   "cell_type": "code",
   "execution_count": 32,
   "id": "7a78f0f0",
   "metadata": {},
   "outputs": [
    {
     "name": "stdout",
     "output_type": "stream",
     "text": [
      "20/20 [==============================] - 48s 2s/step\n"
     ]
    }
   ],
   "source": [
    "y_pred = model1.predict(X_test)\n",
    "y_predicted = np.argmax(y_pred, axis=1)"
   ]
  },
  {
   "cell_type": "code",
   "execution_count": 33,
   "id": "fff4e191",
   "metadata": {},
   "outputs": [
    {
     "data": {
      "text/plain": [
       "0.9306451612903226"
      ]
     },
     "execution_count": 33,
     "metadata": {},
     "output_type": "execute_result"
    }
   ],
   "source": [
    "y_true = np.argmax(y_test, axis=1)\n",
    "accuracy_score(y_true,y_predicted)"
   ]
  },
  {
   "cell_type": "code",
   "execution_count": 34,
   "id": "d4c936cc",
   "metadata": {},
   "outputs": [
    {
     "data": {
      "image/png": "[encoded data removed]",
      "text/plain": [
       "<Figure size 640x480 with 2 Axes>"
      ]
     },
     "metadata": {},
     "output_type": "display_data"
    }
   ],
   "source": [
    "cm = confusion_matrix(y_true, y_predicted)\n",
    "\n",
    "sns.heatmap(cm, annot=True,fmt=\".0f\")\n",
    "plt.title(\"Confusion Matrix\")\n",
    "plt.show()"
   ]
  },
  {
   "cell_type": "code",
   "execution_count": 35,
   "id": "7966159a",
   "metadata": {
    "scrolled": true
   },
   "outputs": [
    {
     "name": "stdout",
     "output_type": "stream",
     "text": [
      "              precision    recall  f1-score   support\n",
      "\n",
      "           0       0.92      0.92      0.92       171\n",
      "           1       0.90      0.88      0.89       180\n",
      "           2       0.94      1.00      0.97        93\n",
      "           3       0.96      0.96      0.96       176\n",
      "\n",
      "    accuracy                           0.93       620\n",
      "   macro avg       0.93      0.94      0.93       620\n",
      "weighted avg       0.93      0.93      0.93       620\n",
      "\n"
     ]
    }
   ],
   "source": [
    "print(classification_report(y_true,y_predicted))"
   ]
  },
  {
   "cell_type": "code",
   "execution_count": 21,
   "id": "49b7d4ba",
   "metadata": {},
   "outputs": [
    {
     "name": "stdout",
     "output_type": "stream",
     "text": [
      "WARNING:tensorflow:`input_shape` is undefined or non-square, or `rows` is not in [96, 128, 160, 192, 224]. Weights for input shape (224, 224) will be loaded as the default.\n",
      "Downloading data from https://storage.googleapis.com/tensorflow/keras-applications/mobilenet_v2/mobilenet_v2_weights_tf_dim_ordering_tf_kernels_1.0_224_no_top.h5\n",
      "9406464/9406464 [==============================] - 2s 0us/step\n",
      "Epoch 1/15\n",
      "78/78 [==============================] - 176s 2s/step - loss: 3.0162 - accuracy: 0.7468 - lr: 0.0010\n",
      "Epoch 2/15\n",
      "78/78 [==============================] - 171s 2s/step - loss: 0.4324 - accuracy: 0.9342 - lr: 0.0010\n",
      "Epoch 3/15\n",
      "78/78 [==============================] - 168s 2s/step - loss: 0.1527 - accuracy: 0.9721 - lr: 0.0010\n",
      "Epoch 4/15\n",
      "78/78 [==============================] - 166s 2s/step - loss: 0.0840 - accuracy: 0.9822 - lr: 0.0010\n",
      "Epoch 5/15\n",
      "78/78 [==============================] - 156s 2s/step - loss: 0.0534 - accuracy: 0.9887 - lr: 0.0010\n",
      "Epoch 6/15\n",
      "78/78 [==============================] - 162s 2s/step - loss: 0.0558 - accuracy: 0.9826 - lr: 0.0010\n",
      "Epoch 7/15\n",
      "78/78 [==============================] - ETA: 0s - loss: 0.0661 - accuracy: 0.9891\n",
      "Epoch 7: ReduceLROnPlateau reducing learning rate to 0.0005000000237487257.\n",
      "78/78 [==============================] - 170s 2s/step - loss: 0.0661 - accuracy: 0.9891 - lr: 0.0010\n",
      "Epoch 8/15\n",
      "78/78 [==============================] - 156s 2s/step - loss: 0.0344 - accuracy: 0.9931 - lr: 5.0000e-04\n",
      "Epoch 9/15\n",
      "78/78 [==============================] - 162s 2s/step - loss: 0.0128 - accuracy: 0.9956 - lr: 5.0000e-04\n",
      "Epoch 10/15\n",
      "78/78 [==============================] - 161s 2s/step - loss: 0.0059 - accuracy: 0.9976 - lr: 5.0000e-04\n",
      "Epoch 11/15\n",
      "78/78 [==============================] - 169s 2s/step - loss: 8.4734e-04 - accuracy: 0.9996 - lr: 5.0000e-04\n",
      "Epoch 12/15\n",
      "78/78 [==============================] - 161s 2s/step - loss: 4.0702e-04 - accuracy: 0.9996 - lr: 5.0000e-04\n",
      "Epoch 13/15\n",
      "78/78 [==============================] - 169s 2s/step - loss: 1.0950e-05 - accuracy: 1.0000 - lr: 5.0000e-04\n",
      "Epoch 14/15\n",
      "78/78 [==============================] - 168s 2s/step - loss: 7.1421e-06 - accuracy: 1.0000 - lr: 5.0000e-04\n",
      "Epoch 15/15\n",
      "78/78 [==============================] - ETA: 0s - loss: 5.4908e-06 - accuracy: 1.0000\n",
      "Epoch 15: ReduceLROnPlateau reducing learning rate to 0.0002500000118743628.\n",
      "78/78 [==============================] - 170s 2s/step - loss: 5.4908e-06 - accuracy: 1.0000 - lr: 5.0000e-04\n"
     ]
    },
    {
     "data": {
      "text/plain": [
       "<keras.callbacks.History at 0x2a6856ce2e0>"
      ]
     },
     "execution_count": 21,
     "metadata": {},
     "output_type": "execute_result"
    }
   ],
   "source": [
    "# #mobilenet code\n",
    "\n",
    "learning_rate_reduction=tf.keras.callbacks.ReduceLROnPlateau(monitor=\"loss\",patience=2,factor=0.5, min_lr=0.00001,verbose =1)\n",
    "Early_Stopping= tf.keras.callbacks.EarlyStopping(monitor=\"loss\",patience=5, restore_best_weights=True)\n",
    "mobilenet = MobileNetV2(input_shape=(256,256,3), weights='imagenet', include_top=False)\n",
    "\n",
    "for layer in mobilenet.layers:\n",
    "    layer.trainable = False\n",
    "    \n",
    "x = keras.layers.Flatten()(mobilenet.output)\n",
    "\n",
    "prediction = keras.layers.Dense(4, activation='softmax')(x)\n",
    "\n",
    "model2 = keras.Model(inputs=mobilenet.input, outputs=prediction)\n",
    "\n",
    "model2.compile(optimizer='adam',\n",
    "              loss='categorical_crossentropy',\n",
    "              metrics=['accuracy'])\n",
    "\n",
    "model2.fit(X_train,y_train, epochs=15, batch_size=32,callbacks=[Early_Stopping,learning_rate_reduction])"
   ]
  },
  {
   "cell_type": "code",
   "execution_count": 22,
   "id": "79a7dd95",
   "metadata": {},
   "outputs": [
    {
     "name": "stdout",
     "output_type": "stream",
     "text": [
      "20/20 [==============================] - 47s 2s/step\n"
     ]
    }
   ],
   "source": [
    "y_pred = model2.predict(X_test)\n",
    "y_predicted = np.argmax(y_pred, axis=1)"
   ]
  },
  {
   "cell_type": "code",
   "execution_count": 23,
   "id": "20745c7e",
   "metadata": {},
   "outputs": [
    {
     "data": {
      "text/plain": [
       "0.9193548387096774"
      ]
     },
     "execution_count": 23,
     "metadata": {},
     "output_type": "execute_result"
    }
   ],
   "source": [
    "y_true = np.argmax(y_test, axis=1)\n",
    "accuracy_score(y_true,y_predicted)"
   ]
  },
  {
   "cell_type": "code",
   "execution_count": 24,
   "id": "28aadd19",
   "metadata": {},
   "outputs": [
    {
     "data": {
      "image/png": "[encoded data removed]",
      "text/plain": [
       "<Figure size 640x480 with 2 Axes>"
      ]
     },
     "metadata": {},
     "output_type": "display_data"
    }
   ],
   "source": [
    "cm = confusion_matrix(y_true, y_predicted)\n",
    "\n",
    "sns.heatmap(cm, annot=True,fmt=\".0f\")\n",
    "plt.title(\"Confusion Matrix\")\n",
    "plt.show()"
   ]
  },
  {
   "cell_type": "code",
   "execution_count": 25,
   "id": "a12444a5",
   "metadata": {},
   "outputs": [
    {
     "name": "stdout",
     "output_type": "stream",
     "text": [
      "              precision    recall  f1-score   support\n",
      "\n",
      "           0       0.93      0.91      0.92       171\n",
      "           1       0.90      0.86      0.88       180\n",
      "           2       0.89      1.00      0.94        93\n",
      "           3       0.94      0.95      0.95       176\n",
      "\n",
      "    accuracy                           0.92       620\n",
      "   macro avg       0.92      0.93      0.92       620\n",
      "weighted avg       0.92      0.92      0.92       620\n",
      "\n"
     ]
    }
   ],
   "source": [
    "print(classification_report(y_true,y_predicted))"
   ]
  },
  {
   "cell_type": "code",
   "execution_count": 26,
   "id": "e4ebad84",
   "metadata": {},
   "outputs": [
    {
     "name": "stdout",
     "output_type": "stream",
     "text": [
      "Epoch 1/15\n",
      "78/78 [==============================] - 364s 4s/step - loss: 3.2009 - accuracy: 0.6793 - lr: 0.0010\n",
      "Epoch 2/15\n",
      "78/78 [==============================] - 312s 4s/step - loss: 0.7077 - accuracy: 0.8877 - lr: 0.0010\n",
      "Epoch 3/15\n",
      "78/78 [==============================] - 310s 4s/step - loss: 0.1553 - accuracy: 0.9519 - lr: 0.0010\n",
      "Epoch 4/15\n",
      "78/78 [==============================] - 312s 4s/step - loss: 0.1534 - accuracy: 0.9596 - lr: 0.0010\n",
      "Epoch 5/15\n",
      "78/78 [==============================] - 310s 4s/step - loss: 0.0846 - accuracy: 0.9770 - lr: 0.0010\n",
      "Epoch 6/15\n",
      "78/78 [==============================] - 315s 4s/step - loss: 0.1454 - accuracy: 0.9709 - lr: 0.0010\n",
      "Epoch 7/15\n",
      "78/78 [==============================] - 314s 4s/step - loss: 0.0730 - accuracy: 0.9814 - lr: 0.0010\n",
      "Epoch 8/15\n",
      "78/78 [==============================] - 240s 3s/step - loss: 0.0324 - accuracy: 0.9923 - lr: 0.0010\n",
      "Epoch 9/15\n",
      "78/78 [==============================] - 84s 1s/step - loss: 0.0187 - accuracy: 0.9952 - lr: 0.0010\n",
      "Epoch 10/15\n",
      "78/78 [==============================] - 109s 1s/step - loss: 0.0816 - accuracy: 0.9790 - lr: 0.0010\n",
      "Epoch 11/15\n",
      "78/78 [==============================] - ETA: 0s - loss: 0.2415 - accuracy: 0.9592\n",
      "Epoch 11: ReduceLROnPlateau reducing learning rate to 0.0005000000237487257.\n",
      "78/78 [==============================] - 85s 1s/step - loss: 0.2415 - accuracy: 0.9592 - lr: 0.0010\n",
      "Epoch 12/15\n",
      "78/78 [==============================] - 84s 1s/step - loss: 0.1239 - accuracy: 0.9778 - lr: 5.0000e-04\n",
      "Epoch 13/15\n",
      "78/78 [==============================] - 84s 1s/step - loss: 0.0080 - accuracy: 0.9972 - lr: 5.0000e-04\n",
      "Epoch 14/15\n",
      "78/78 [==============================] - 84s 1s/step - loss: 1.1225e-04 - accuracy: 1.0000 - lr: 5.0000e-04\n",
      "Epoch 15/15\n",
      "78/78 [==============================] - 84s 1s/step - loss: 5.8201e-05 - accuracy: 1.0000 - lr: 5.0000e-04\n"
     ]
    },
    {
     "data": {
      "text/plain": [
       "<keras.callbacks.History at 0x2a7a569ad00>"
      ]
     },
     "execution_count": 26,
     "metadata": {},
     "output_type": "execute_result"
    }
   ],
   "source": [
    "# #Inception net code\n",
    "\n",
    "learning_rate_reduction=tf.keras.callbacks.ReduceLROnPlateau(monitor=\"loss\",patience=2,factor=0.5, min_lr=0.00001,verbose =1)\n",
    "Early_Stopping= tf.keras.callbacks.EarlyStopping(monitor=\"loss\",patience=5, restore_best_weights=True)\n",
    "inceptionv3 = InceptionV3(input_shape=(256,256,3), weights='imagenet', include_top=False)\n",
    "\n",
    "for layer in inceptionv3.layers:\n",
    "    layer.trainable = False\n",
    "    \n",
    "x = keras.layers.Flatten()(inceptionv3.output)\n",
    "\n",
    "prediction = keras.layers.Dense(4, activation='softmax')(x)\n",
    "\n",
    "model4 = keras.Model(inputs=inceptionv3.input, outputs=prediction)\n",
    "\n",
    "model4.compile(optimizer='adam',\n",
    "              loss='categorical_crossentropy',\n",
    "              metrics=['accuracy'])\n",
    "\n",
    "\n",
    "model4.fit(X_train,y_train, epochs=15, batch_size=32,callbacks=[Early_Stopping,learning_rate_reduction])"
   ]
  },
  {
   "cell_type": "code",
   "execution_count": 27,
   "id": "ce39551b",
   "metadata": {},
   "outputs": [
    {
     "name": "stdout",
     "output_type": "stream",
     "text": [
      "20/20 [==============================] - 23s 1s/step\n"
     ]
    }
   ],
   "source": [
    "y_pred = model4.predict(X_test)\n",
    "y_predicted = np.argmax(y_pred, axis=1)"
   ]
  },
  {
   "cell_type": "code",
   "execution_count": 28,
   "id": "3f20f6f4",
   "metadata": {},
   "outputs": [
    {
     "data": {
      "text/plain": [
       "0.8935483870967742"
      ]
     },
     "execution_count": 28,
     "metadata": {},
     "output_type": "execute_result"
    }
   ],
   "source": [
    "y_true = np.argmax(y_test, axis=1)\n",
    "accuracy_score(y_true,y_predicted)"
   ]
  },
  {
   "cell_type": "code",
   "execution_count": 29,
   "id": "d1bb9bd3",
   "metadata": {},
   "outputs": [
    {
     "data": {
      "image/png": "[encoded data removed]",
      "text/plain": [
       "<Figure size 640x480 with 2 Axes>"
      ]
     },
     "metadata": {},
     "output_type": "display_data"
    }
   ],
   "source": [
    "cm = confusion_matrix(y_true, y_predicted)\n",
    "\n",
    "sns.heatmap(cm, annot=True,fmt=\".0f\")\n",
    "plt.title(\"Confusion Matrix\")\n",
    "plt.show()"
   ]
  },
  {
   "cell_type": "code",
   "execution_count": 30,
   "id": "a845bb05",
   "metadata": {},
   "outputs": [
    {
     "name": "stdout",
     "output_type": "stream",
     "text": [
      "              precision    recall  f1-score   support\n",
      "\n",
      "           0       0.89      0.85      0.87       171\n",
      "           1       0.84      0.86      0.85       180\n",
      "           2       0.95      0.99      0.97        93\n",
      "           3       0.93      0.93      0.93       176\n",
      "\n",
      "    accuracy                           0.89       620\n",
      "   macro avg       0.90      0.90      0.90       620\n",
      "weighted avg       0.89      0.89      0.89       620\n",
      "\n"
     ]
    }
   ],
   "source": [
    "print(classification_report(y_true,y_predicted))"
   ]
  },
  {
   "cell_type": "code",
   "execution_count": null,
   "id": "c4607d4a",
   "metadata": {},
   "outputs": [],
   "source": []
  }
 ],
 "metadata": {
  "kernelspec": {
   "display_name": "Python 3 (ipykernel)",
   "language": "python",
   "name": "python3"
  },
  "language_info": {
   "codemirror_mode": {
    "name": "ipython",
    "version": 3
   },
   "file_extension": ".py",
   "mimetype": "text/x-python",
   "name": "python",
   "nbconvert_exporter": "python",
   "pygments_lexer": "ipython3",
   "version": "3.9.17"
  }
 },
 "nbformat": 4,
 "nbformat_minor": 5
}
